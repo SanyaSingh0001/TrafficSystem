{
 "cells": [
  {
   "cell_type": "code",
   "execution_count": null,
   "id": "471407ee",
   "metadata": {
    "vscode": {
     "languageId": "plaintext"
    }
   },
   "outputs": [],
   "source": [
    "import traci\n",
    "import serial\n",
    "import time\n",
    "\n",
    "# ---- Connect to Arduino ----\n",
    "arduino = serial.Serial(\"COM5\", 9600, timeout=1)\n",
    "time.sleep(2)\n",
    "\n",
    "# ---- Connect to SUMO ----\n",
    "sumoCmd = [\"sumo-gui\", \"-c\", r\"C:\\Windows\\System32\\sih\\rupali_chaotic.sumocfg\"]\n",
    "traci.start(sumoCmd)\n",
    "\n",
    "tl_id = \"2704039244\"  # traffic light ID\n",
    "led_indexes = [0, 3, 6]  # 3 terminals in junction\n",
    "\n",
    "while traci.simulation.getMinExpectedNumber() > 0:\n",
    "    traci.simulationStep()\n",
    "\n",
    "    state = traci.trafficlight.getRedYellowGreenState(tl_id)\n",
    "    current_time = traci.simulation.getTime()\n",
    "    next_switch = traci.trafficlight.getNextSwitch(tl_id)\n",
    "    time_left = int(next_switch - current_time)\n",
    "\n",
    "    leds = []\n",
    "    for idx in led_indexes:\n",
    "        c = state[idx]\n",
    "        if c == 'r':   # ✅ LED ON only if RED\n",
    "            leds.append(1)\n",
    "        else:\n",
    "            leds.append(0)\n",
    "\n",
    "    # Only send countdown if LED1 (pin 2) is ON\n",
    "    if leds[0] == 1:\n",
    "        countdown = time_left\n",
    "    else:\n",
    "        countdown = 0\n",
    "\n",
    "    # Format: \"1 0 1,7\"\n",
    "    msg = f\"{leds[0]} {leds[1]} {leds[2]},{countdown}\\n\"\n",
    "    print(\"Sending:\", msg.strip())\n",
    "    arduino.write(msg.encode())\n",
    "\n",
    "    time.sleep(0.5)\n",
    "\n",
    "traci.close()\n"
   ]
  }
 ],
 "metadata": {
  "language_info": {
   "name": "python"
  }
 },
 "nbformat": 4,
 "nbformat_minor": 5
}
